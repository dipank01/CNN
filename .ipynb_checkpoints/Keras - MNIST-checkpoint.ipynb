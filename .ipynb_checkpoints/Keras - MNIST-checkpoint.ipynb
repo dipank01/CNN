{
 "cells": [
  {
   "cell_type": "code",
   "execution_count": 47,
   "metadata": {},
   "outputs": [],
   "source": [
    "# Importing required libraries\n",
    "import keras\n",
    "import numpy as np\n",
    "from keras.datasets import mnist\n",
    "from keras.utils import to_categorical\n",
    "from keras.models import Sequential\n",
    "from keras.layers import Dense, Conv2D, MaxPool2D, Flatten, Dropout"
   ]
  },
  {
   "cell_type": "code",
   "execution_count": 31,
   "metadata": {},
   "outputs": [],
   "source": [
    "# Loading data\n",
    "(xtrain, ytrain), (xtest, ytest) = mnist.load_data()"
   ]
  },
  {
   "cell_type": "code",
   "execution_count": 32,
   "metadata": {},
   "outputs": [
    {
     "data": {
      "text/plain": [
       "((60000, 28, 28), (60000,), (10000, 28, 28), (10000,))"
      ]
     },
     "execution_count": 32,
     "metadata": {},
     "output_type": "execute_result"
    }
   ],
   "source": [
    "xtrain.shape, ytrain.shape, xtest.shape, ytest.shape"
   ]
  },
  {
   "cell_type": "code",
   "execution_count": 34,
   "metadata": {},
   "outputs": [],
   "source": [
    "# Normalising data\n",
    "xtrain = xtrain/255.0\n",
    "xtest = xtest/255.0"
   ]
  },
  {
   "cell_type": "code",
   "execution_count": 35,
   "metadata": {},
   "outputs": [],
   "source": [
    "# Reshaping data for CNN layer\n",
    "xtrain = xtrain.reshape((-1, 28, 28, 1))\n",
    "xtest = xtest.reshape((-1, 28, 28, 1))"
   ]
  },
  {
   "cell_type": "code",
   "execution_count": 36,
   "metadata": {},
   "outputs": [
    {
     "data": {
      "text/plain": [
       "(60000, 10)"
      ]
     },
     "execution_count": 36,
     "metadata": {},
     "output_type": "execute_result"
    }
   ],
   "source": [
    "# Converting into one hot encoded form\n",
    "ytrain = to_categorical(ytrain, num_classes=10)\n",
    "ytest = to_categorical(ytest, num_classes=10)\n",
    "ytrain.shape"
   ]
  },
  {
   "cell_type": "code",
   "execution_count": 48,
   "metadata": {},
   "outputs": [
    {
     "name": "stdout",
     "output_type": "stream",
     "text": [
      "WARNING:tensorflow:From C:\\Users\\dipan\\anaconda3\\lib\\site-packages\\keras\\backend\\tensorflow_backend.py:4070: The name tf.nn.max_pool is deprecated. Please use tf.nn.max_pool2d instead.\n",
      "\n"
     ]
    }
   ],
   "source": [
    "# Creating model and adding 2 convolution layers and 1 hidden layer\n",
    "model = Sequential()\n",
    "model.add(Conv2D(filters=32, kernel_size=(5,5), activation='relu', padding='same', strides=(1,1), input_shape=(28,28,1)))\n",
    "model.add(MaxPool2D(pool_size=(2,2), padding='same'))\n",
    "\n",
    "model.add(Conv2D(filters=64, kernel_size=(5,5), activation='relu', padding='same', strides=(1,1)))\n",
    "model.add(MaxPool2D(pool_size=(2,2), padding='same'))\n",
    "\n",
    "model.add(Flatten())\n",
    "\n",
    "model.add(Dense(units=1024, activation='relu'))\n",
    "model.add(Dropout(rate=0.2))\n",
    "model.add(Dense(units=10, activation='softmax'))"
   ]
  },
  {
   "cell_type": "code",
   "execution_count": 50,
   "metadata": {},
   "outputs": [],
   "source": [
    "model.compile(optimizer='adam', loss='categorical_crossentropy', metrics=['accuracy'])"
   ]
  },
  {
   "cell_type": "code",
   "execution_count": 51,
   "metadata": {},
   "outputs": [
    {
     "name": "stdout",
     "output_type": "stream",
     "text": [
      "Model: \"sequential_2\"\n",
      "_________________________________________________________________\n",
      "Layer (type)                 Output Shape              Param #   \n",
      "=================================================================\n",
      "conv2d_1 (Conv2D)            (None, 28, 28, 32)        832       \n",
      "_________________________________________________________________\n",
      "max_pooling2d_1 (MaxPooling2 (None, 14, 14, 32)        0         \n",
      "_________________________________________________________________\n",
      "conv2d_2 (Conv2D)            (None, 14, 14, 64)        51264     \n",
      "_________________________________________________________________\n",
      "max_pooling2d_2 (MaxPooling2 (None, 7, 7, 64)          0         \n",
      "_________________________________________________________________\n",
      "flatten_1 (Flatten)          (None, 3136)              0         \n",
      "_________________________________________________________________\n",
      "dense_1 (Dense)              (None, 1024)              3212288   \n",
      "_________________________________________________________________\n",
      "dropout_1 (Dropout)          (None, 1024)              0         \n",
      "_________________________________________________________________\n",
      "dense_2 (Dense)              (None, 10)                10250     \n",
      "=================================================================\n",
      "Total params: 3,274,634\n",
      "Trainable params: 3,274,634\n",
      "Non-trainable params: 0\n",
      "_________________________________________________________________\n"
     ]
    }
   ],
   "source": [
    "model.summary()"
   ]
  },
  {
   "cell_type": "code",
   "execution_count": 56,
   "metadata": {},
   "outputs": [
    {
     "name": "stdout",
     "output_type": "stream",
     "text": [
      "Train on 60000 samples, validate on 10000 samples\n",
      "Epoch 1/20\n",
      "60000/60000 [==============================] - 143s 2ms/step - loss: 0.0035 - accuracy: 0.9988 - val_loss: 0.0333 - val_accuracy: 0.9929\n",
      "Epoch 2/20\n",
      "60000/60000 [==============================] - 136s 2ms/step - loss: 0.0034 - accuracy: 0.9991 - val_loss: 0.0288 - val_accuracy: 0.9937\n",
      "Epoch 3/20\n",
      "60000/60000 [==============================] - 138s 2ms/step - loss: 0.0024 - accuracy: 0.9992 - val_loss: 0.0497 - val_accuracy: 0.9927\n",
      "Epoch 4/20\n",
      "60000/60000 [==============================] - 138s 2ms/step - loss: 0.0049 - accuracy: 0.9987 - val_loss: 0.0376 - val_accuracy: 0.9923\n",
      "Epoch 5/20\n",
      "60000/60000 [==============================] - 138s 2ms/step - loss: 0.0025 - accuracy: 0.9992 - val_loss: 0.0385 - val_accuracy: 0.9927\n",
      "Epoch 6/20\n",
      "60000/60000 [==============================] - 138s 2ms/step - loss: 0.0037 - accuracy: 0.9990 - val_loss: 0.0315 - val_accuracy: 0.9938\n",
      "Epoch 7/20\n",
      "60000/60000 [==============================] - 141s 2ms/step - loss: 0.0031 - accuracy: 0.9989 - val_loss: 0.0381 - val_accuracy: 0.9930\n",
      "Epoch 8/20\n",
      "60000/60000 [==============================] - 146s 2ms/step - loss: 0.0040 - accuracy: 0.9990 - val_loss: 0.0447 - val_accuracy: 0.9914\n",
      "Epoch 9/20\n",
      "60000/60000 [==============================] - 146s 2ms/step - loss: 0.0032 - accuracy: 0.9991 - val_loss: 0.0434 - val_accuracy: 0.9930\n",
      "Epoch 10/20\n",
      "60000/60000 [==============================] - 145s 2ms/step - loss: 0.0024 - accuracy: 0.9994 - val_loss: 0.0400 - val_accuracy: 0.9924\n",
      "Epoch 11/20\n",
      "60000/60000 [==============================] - 144s 2ms/step - loss: 0.0033 - accuracy: 0.9991 - val_loss: 0.0565 - val_accuracy: 0.9923\n",
      "Epoch 12/20\n",
      "60000/60000 [==============================] - 141s 2ms/step - loss: 0.0033 - accuracy: 0.9992 - val_loss: 0.0470 - val_accuracy: 0.9928\n",
      "Epoch 13/20\n",
      "60000/60000 [==============================] - 141s 2ms/step - loss: 0.0017 - accuracy: 0.9994 - val_loss: 0.0396 - val_accuracy: 0.9943\n",
      "Epoch 14/20\n",
      "60000/60000 [==============================] - 137s 2ms/step - loss: 0.0036 - accuracy: 0.9992 - val_loss: 0.0511 - val_accuracy: 0.9926\n",
      "Epoch 15/20\n",
      "60000/60000 [==============================] - 137s 2ms/step - loss: 0.0032 - accuracy: 0.9992 - val_loss: 0.0452 - val_accuracy: 0.9930\n",
      "Epoch 16/20\n",
      "60000/60000 [==============================] - 139s 2ms/step - loss: 0.0034 - accuracy: 0.9992 - val_loss: 0.0463 - val_accuracy: 0.9932\n",
      "Epoch 17/20\n",
      "60000/60000 [==============================] - 139s 2ms/step - loss: 0.0025 - accuracy: 0.9995 - val_loss: 0.0454 - val_accuracy: 0.9924\n",
      "Epoch 18/20\n",
      "60000/60000 [==============================] - 138s 2ms/step - loss: 0.0013 - accuracy: 0.9997 - val_loss: 0.0527 - val_accuracy: 0.9932\n",
      "Epoch 19/20\n",
      "60000/60000 [==============================] - 140s 2ms/step - loss: 0.0010 - accuracy: 0.9997 - val_loss: 0.0455 - val_accuracy: 0.9938\n",
      "Epoch 20/20\n",
      "60000/60000 [==============================] - 111s 2ms/step - loss: 0.0043 - accuracy: 0.9990 - val_loss: 0.0540 - val_accuracy: 0.9939\n"
     ]
    },
    {
     "data": {
      "text/plain": [
       "<keras.callbacks.callbacks.History at 0x224c45d0d88>"
      ]
     },
     "execution_count": 56,
     "metadata": {},
     "output_type": "execute_result"
    }
   ],
   "source": [
    "model.fit(xtrain, ytrain, epochs=20, batch_size=100, validation_data=(xtest, ytest))"
   ]
  },
  {
   "cell_type": "code",
   "execution_count": 57,
   "metadata": {},
   "outputs": [
    {
     "data": {
      "text/plain": [
       "array([[0.0000000e+00, 3.2942702e-37, 3.7037223e-36, ..., 1.0000000e+00,\n",
       "        0.0000000e+00, 9.6032049e-29],\n",
       "       [4.5057382e-38, 0.0000000e+00, 1.0000000e+00, ..., 0.0000000e+00,\n",
       "        0.0000000e+00, 0.0000000e+00],\n",
       "       [1.4147215e-20, 1.0000000e+00, 5.8372516e-21, ..., 2.3205093e-20,\n",
       "        2.4906816e-21, 1.3097605e-22],\n",
       "       ...,\n",
       "       [0.0000000e+00, 5.5477256e-27, 3.6661309e-38, ..., 2.8290131e-31,\n",
       "        4.5574873e-26, 1.0858837e-29],\n",
       "       [0.0000000e+00, 0.0000000e+00, 0.0000000e+00, ..., 0.0000000e+00,\n",
       "        1.2965582e-28, 0.0000000e+00],\n",
       "       [5.2857021e-36, 1.1662842e-32, 9.3057787e-32, ..., 0.0000000e+00,\n",
       "        0.0000000e+00, 0.0000000e+00]], dtype=float32)"
      ]
     },
     "execution_count": 57,
     "metadata": {},
     "output_type": "execute_result"
    }
   ],
   "source": [
    "predictions = model.predict(xtest)\n",
    "predictions"
   ]
  },
  {
   "cell_type": "code",
   "execution_count": 61,
   "metadata": {},
   "outputs": [
    {
     "name": "stdout",
     "output_type": "stream",
     "text": [
      "10000/10000 [==============================] - 2s 236us/step\n",
      "loss, accuracy: [0.05402563020824445, 0.9939000010490417]\n"
     ]
    }
   ],
   "source": [
    "print('loss,','accuracy:',model.evaluate(xtest, ytest))"
   ]
  }
 ],
 "metadata": {
  "kernelspec": {
   "display_name": "Python 3",
   "language": "python",
   "name": "python3"
  },
  "language_info": {
   "codemirror_mode": {
    "name": "ipython",
    "version": 3
   },
   "file_extension": ".py",
   "mimetype": "text/x-python",
   "name": "python",
   "nbconvert_exporter": "python",
   "pygments_lexer": "ipython3",
   "version": "3.7.6"
  }
 },
 "nbformat": 4,
 "nbformat_minor": 4
}
